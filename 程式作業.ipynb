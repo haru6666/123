{
 "cells": [
  {
   "cell_type": "code",
   "execution_count": null,
   "metadata": {},
   "outputs": [],
   "source": [
    "import matplotlib.pyplot as plt\n",
    "import numpy as np\n",
    "import xlrd\n",
    "data = xlrd.open_workbook(r'D:\\新北勞動參與率vs失業率.xlsx')\n",
    "table = data.sheets()[0]\n",
    "new_ticks = np.linspace(2007, 2018, 12)\n",
    "plt.rcParams['font.family'] = 'DFKai-SB'\n",
    "plt.figure(dpi=120,linewidth = 2)\n",
    "plt.xticks(new_ticks)\n",
    "plt.xlabel('國小')\n",
    "plt.ylabel('%')\n",
    "axis_x = []\n",
    "Y1=[]\n",
    "Y2=[]\n",
    "x=table.col_values(0)[1:13]\n",
    "y1=table.col_values(2)[1:13]\n",
    "y2=table.col_values(1)[15:27]\n",
    "n=12\n",
    "axis_x =x\n",
    "Y1=y1\n",
    "Y2=y2\n",
    "plt.plot(axis_x, Y1, '*--', label='G1') \n",
    "plt.plot(axis_x, Y2, 'rd--', label='G2') \n",
    "for x, y1 in zip(axis_x, Y1):\n",
    "    plt.text(x, y1, '%.2f' % y1 ,ha='center', va='bottom')\n",
    "for x, y2 in zip(axis_x, Y2):\n",
    "    plt.text(x, y2, '%.2f' % y2 ,ha='center', va='bottom')\n",
    "plt.show()"
   ]
  }
 ],
 "metadata": {
  "kernelspec": {
   "display_name": "Python 3",
   "language": "python",
   "name": "python3"
  },
  "language_info": {
   "codemirror_mode": {
    "name": "ipython",
    "version": 3
   },
   "file_extension": ".py",
   "mimetype": "text/x-python",
   "name": "python",
   "nbconvert_exporter": "python",
   "pygments_lexer": "ipython3",
   "version": "3.6.5"
  }
 },
 "nbformat": 4,
 "nbformat_minor": 2
}
